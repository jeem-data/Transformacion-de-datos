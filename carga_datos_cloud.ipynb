{
 "cells": [
  {
   "cell_type": "code",
   "execution_count": 11,
   "metadata": {},
   "outputs": [],
   "source": [
    "import os\n",
    "from tqdm import tqdm\n",
    "from google.cloud import storage"
   ]
  },
  {
   "cell_type": "code",
   "execution_count": 15,
   "metadata": {},
   "outputs": [],
   "source": [
    "os.environ['GOOGLE_APPLICATION_CREDENTIALS'] = 'xenon-heading-430209-e4-7582f64a7330.json' \n",
    "bucket_name = 'tfm_javi'\n",
    "carpeta_origen = './resoluciones_full'"
   ]
  },
  {
   "cell_type": "code",
   "execution_count": 16,
   "metadata": {},
   "outputs": [],
   "source": [
    "def subir_archivos(bucket_name, carpeta_origen):\n",
    "    \"\"\"\n",
    "    Sube todos los archivos de la carpeta local especificada al bucket de GCS dado.\n",
    "\n",
    "    Args:\n",
    "        bucket_name (str): El nombre de tu bucket de GCS.\n",
    "        carpeta_origen (str): La carpeta local que contiene los archivos a subir.\n",
    "    \"\"\"\n",
    "    try:\n",
    "        # Inicializa el cliente de almacenamiento\n",
    "        storage_client = storage.Client()\n",
    "        # Obtiene el bucket\n",
    "        bucket = storage_client.bucket(bucket_name)\n",
    "    except Exception as e:\n",
    "        print(f\"Error al conectar con GCS: {e}\")\n",
    "        return\n",
    "\n",
    "    # Obtiene una lista de todos los archivos a subir\n",
    "    archivos_a_subir = []\n",
    "    for root, _, files in os.walk(carpeta_origen):\n",
    "        for filename in files:\n",
    "            archivos_a_subir.append(os.path.join(root, filename))\n",
    "\n",
    "    total_archivos = len(archivos_a_subir)\n",
    "    print(f\"Total de archivos a subir: {total_archivos}\")\n",
    "\n",
    "    # Sube los archivos con una barra de progreso\n",
    "    for local_path in tqdm(archivos_a_subir, desc='Subiendo archivos'):\n",
    "        try:\n",
    "            # Crea la ruta relativa para mantener la estructura de carpetas\n",
    "            ruta_relativa = os.path.relpath(local_path, carpeta_origen)\n",
    "            blob = bucket.blob(ruta_relativa)\n",
    "\n",
    "            # Sube el archivo al bucket\n",
    "            blob.upload_from_filename(local_path)\n",
    "            # print(f'Se subió {local_path} a gs://{bucket_name}/{ruta_relativa}')\n",
    "        except Exception as e:\n",
    "            print(f\"Error al subir {local_path}: {e}\")"
   ]
  },
  {
   "cell_type": "code",
   "execution_count": 17,
   "metadata": {},
   "outputs": [
    {
     "name": "stdout",
     "output_type": "stream",
     "text": [
      "Total de archivos a subir: 12786\n"
     ]
    },
    {
     "name": "stderr",
     "output_type": "stream",
     "text": [
      "Subiendo archivos: 100%|██████████| 12786/12786 [1:49:42<00:00,  1.94it/s] \n"
     ]
    }
   ],
   "source": [
    "subir_archivos(bucket_name, carpeta_origen)"
   ]
  }
 ],
 "metadata": {
  "kernelspec": {
   "display_name": "TFM-mwc0f3M8",
   "language": "python",
   "name": "python3"
  },
  "language_info": {
   "codemirror_mode": {
    "name": "ipython",
    "version": 3
   },
   "file_extension": ".py",
   "mimetype": "text/x-python",
   "name": "python",
   "nbconvert_exporter": "python",
   "pygments_lexer": "ipython3",
   "version": "3.12.4"
  }
 },
 "nbformat": 4,
 "nbformat_minor": 2
}
